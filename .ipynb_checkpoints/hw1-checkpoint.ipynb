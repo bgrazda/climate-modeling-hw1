{
 "cells": [
  {
   "cell_type": "markdown",
   "id": "d3facb26-f4af-435b-b690-e8d6172e8541",
   "metadata": {},
   "source": [
    "## Homework 1: Time Series Plots\n",
    "### Author: Brooke Grazda\n",
    "### Date: 4/21/2025"
   ]
  },
  {
   "cell_type": "code",
   "execution_count": null,
   "id": "3700d176-6814-4980-be35-f72c7f508aff",
   "metadata": {},
   "outputs": [],
   "source": []
  }
 ],
 "metadata": {
  "kernelspec": {
   "display_name": "Anaconda 3 (EDS296)",
   "language": "python",
   "name": "eds196-stevenson"
  },
  "language_info": {
   "codemirror_mode": {
    "name": "ipython",
    "version": 3
   },
   "file_extension": ".py",
   "mimetype": "text/x-python",
   "name": "python",
   "nbconvert_exporter": "python",
   "pygments_lexer": "ipython3",
   "version": "3.8.18"
  }
 },
 "nbformat": 4,
 "nbformat_minor": 5
}
